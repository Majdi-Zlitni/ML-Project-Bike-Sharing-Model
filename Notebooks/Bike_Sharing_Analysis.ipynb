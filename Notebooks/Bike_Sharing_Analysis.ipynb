{
 "cells": [
  {
   "cell_type": "markdown",
   "metadata": {},
   "source": [
    "# 1. BO\n",
    "\n",
    "## Objectif:\n",
    "- Prédire le nombre de locations de vélos par heure en fonction de facteurs environnementaux et saisonniers.\n",
    "\n",
    "- Réduire le temps d'attente des utilisateurs qui cherchent à louer un vélo ou à retourner un vélo dans une station pleine.\n",
    "\n",
    "- Minimiser les coûts associés au déplacement des vélos entre les stations et à la maintenance.\n",
    "\n",
    "- Lors d'événements spéciaux ou de jours fériés, la demande de vélos peut varier de manière imprévisible.\n"
   ]
  },
  {
   "cell_type": "markdown",
   "metadata": {},
   "source": [
    "//Nhesnou fi el BO w\n",
    "COLONE\n",
    "DATA null\n",
    "Signification de chaque colume\n",
    "# 2. Phase de Compréhension des Données\n",
    "\n",
    "## Objectifs :\n",
    "1. Analyser la taille de l'ensemble de données (nombre de lignes et de colonnes).\n",
    "2. \n",
    "3. Identifier les types de données des colonnes.\n",
    "4. Supprimer les doublons dans l'ensemble de données.\n",
    "\n",
    "## Actions :\n",
    "- Utiliser `data.shape` pour obtenir le nombre de lignes et de colonnes.\n",
    "- Examiner la signification de chaque colonne.\n",
    "- Vérifier les types de données de chaque colonne avec `data.dtypes`.\n",
    "- Rechercher et supprimer les lignes dupliquées dans l'ensemble de données.\n",
    "\n"
   ]
  },
  {
   "cell_type": "markdown",
   "metadata": {},
   "source": [
    "# Importation du biblio pandas et chargement du fichier CSV"
   ]
  },
  {
   "cell_type": "code",
   "execution_count": 20,
   "metadata": {},
   "outputs": [],
   "source": [
    "#%pip install pandas\n",
    "import pandas as pd\n",
    "file_path = '/Data/datahour.csv'\n",
    "data = pd.read_csv(file_path)\n"
   ]
  },
  {
   "cell_type": "markdown",
   "metadata": {},
   "source": [
    "# Display the first few rows of the dataframe"
   ]
  },
  {
   "cell_type": "code",
   "execution_count": 21,
   "metadata": {},
   "outputs": [
    {
     "data": {
      "text/html": [
       "<div>\n",
       "<style scoped>\n",
       "    .dataframe tbody tr th:only-of-type {\n",
       "        vertical-align: middle;\n",
       "    }\n",
       "\n",
       "    .dataframe tbody tr th {\n",
       "        vertical-align: top;\n",
       "    }\n",
       "\n",
       "    .dataframe thead th {\n",
       "        text-align: right;\n",
       "    }\n",
       "</style>\n",
       "<table border=\"1\" class=\"dataframe\">\n",
       "  <thead>\n",
       "    <tr style=\"text-align: right;\">\n",
       "      <th></th>\n",
       "      <th>instant</th>\n",
       "      <th>dteday</th>\n",
       "      <th>season</th>\n",
       "      <th>yr</th>\n",
       "      <th>mnth</th>\n",
       "      <th>hr</th>\n",
       "      <th>holiday</th>\n",
       "      <th>weekday</th>\n",
       "      <th>workingday</th>\n",
       "      <th>weathersit</th>\n",
       "      <th>temp</th>\n",
       "      <th>atemp</th>\n",
       "      <th>hum</th>\n",
       "      <th>windspeed</th>\n",
       "      <th>casual</th>\n",
       "      <th>registered</th>\n",
       "      <th>cnt</th>\n",
       "    </tr>\n",
       "  </thead>\n",
       "  <tbody>\n",
       "    <tr>\n",
       "      <th>0</th>\n",
       "      <td>1.0</td>\n",
       "      <td>2011-01-01</td>\n",
       "      <td>1.0</td>\n",
       "      <td>0.0</td>\n",
       "      <td>1.0</td>\n",
       "      <td>0.0</td>\n",
       "      <td>0.0</td>\n",
       "      <td>6.0</td>\n",
       "      <td>0.0</td>\n",
       "      <td>1.0</td>\n",
       "      <td>0.24</td>\n",
       "      <td>0.2879</td>\n",
       "      <td>0.81</td>\n",
       "      <td>0.0</td>\n",
       "      <td>3.0</td>\n",
       "      <td>13.0</td>\n",
       "      <td>16.0</td>\n",
       "    </tr>\n",
       "    <tr>\n",
       "      <th>1</th>\n",
       "      <td>2.0</td>\n",
       "      <td>2011-01-01</td>\n",
       "      <td>1.0</td>\n",
       "      <td>0.0</td>\n",
       "      <td>1.0</td>\n",
       "      <td>1.0</td>\n",
       "      <td>0.0</td>\n",
       "      <td>6.0</td>\n",
       "      <td>NaN</td>\n",
       "      <td>1.0</td>\n",
       "      <td>0.22</td>\n",
       "      <td>0.2727</td>\n",
       "      <td>0.80</td>\n",
       "      <td>0.0</td>\n",
       "      <td>8.0</td>\n",
       "      <td>32.0</td>\n",
       "      <td>40.0</td>\n",
       "    </tr>\n",
       "    <tr>\n",
       "      <th>2</th>\n",
       "      <td>3.0</td>\n",
       "      <td>2011-01-01</td>\n",
       "      <td>1.0</td>\n",
       "      <td>0.0</td>\n",
       "      <td>1.0</td>\n",
       "      <td>2.0</td>\n",
       "      <td>0.0</td>\n",
       "      <td>6.0</td>\n",
       "      <td>0.0</td>\n",
       "      <td>1.0</td>\n",
       "      <td>0.22</td>\n",
       "      <td>0.2727</td>\n",
       "      <td>0.80</td>\n",
       "      <td>0.0</td>\n",
       "      <td>5.0</td>\n",
       "      <td>27.0</td>\n",
       "      <td>32.0</td>\n",
       "    </tr>\n",
       "    <tr>\n",
       "      <th>3</th>\n",
       "      <td>4.0</td>\n",
       "      <td>2011-01-01</td>\n",
       "      <td>1.0</td>\n",
       "      <td>0.0</td>\n",
       "      <td>1.0</td>\n",
       "      <td>3.0</td>\n",
       "      <td>0.0</td>\n",
       "      <td>6.0</td>\n",
       "      <td>0.0</td>\n",
       "      <td>1.0</td>\n",
       "      <td>0.24</td>\n",
       "      <td>0.2879</td>\n",
       "      <td>0.75</td>\n",
       "      <td>0.0</td>\n",
       "      <td>3.0</td>\n",
       "      <td>10.0</td>\n",
       "      <td>13.0</td>\n",
       "    </tr>\n",
       "    <tr>\n",
       "      <th>4</th>\n",
       "      <td>5.0</td>\n",
       "      <td>2011-01-01</td>\n",
       "      <td>1.0</td>\n",
       "      <td>0.0</td>\n",
       "      <td>1.0</td>\n",
       "      <td>4.0</td>\n",
       "      <td>0.0</td>\n",
       "      <td>6.0</td>\n",
       "      <td>0.0</td>\n",
       "      <td>1.0</td>\n",
       "      <td>0.24</td>\n",
       "      <td>0.2879</td>\n",
       "      <td>0.75</td>\n",
       "      <td>0.0</td>\n",
       "      <td>0.0</td>\n",
       "      <td>1.0</td>\n",
       "      <td>1.0</td>\n",
       "    </tr>\n",
       "  </tbody>\n",
       "</table>\n",
       "</div>"
      ],
      "text/plain": [
       "   instant      dteday  season   yr  mnth   hr  holiday  weekday  workingday  \\\n",
       "0      1.0  2011-01-01     1.0  0.0   1.0  0.0      0.0      6.0         0.0   \n",
       "1      2.0  2011-01-01     1.0  0.0   1.0  1.0      0.0      6.0         NaN   \n",
       "2      3.0  2011-01-01     1.0  0.0   1.0  2.0      0.0      6.0         0.0   \n",
       "3      4.0  2011-01-01     1.0  0.0   1.0  3.0      0.0      6.0         0.0   \n",
       "4      5.0  2011-01-01     1.0  0.0   1.0  4.0      0.0      6.0         0.0   \n",
       "\n",
       "   weathersit  temp   atemp   hum  windspeed  casual  registered   cnt  \n",
       "0         1.0  0.24  0.2879  0.81        0.0     3.0        13.0  16.0  \n",
       "1         1.0  0.22  0.2727  0.80        0.0     8.0        32.0  40.0  \n",
       "2         1.0  0.22  0.2727  0.80        0.0     5.0        27.0  32.0  \n",
       "3         1.0  0.24  0.2879  0.75        0.0     3.0        10.0  13.0  \n",
       "4         1.0  0.24  0.2879  0.75        0.0     0.0         1.0   1.0  "
      ]
     },
     "execution_count": 21,
     "metadata": {},
     "output_type": "execute_result"
    }
   ],
   "source": [
    "data.head()"
   ]
  },
  {
   "cell_type": "markdown",
   "metadata": {},
   "source": [
    "\n",
    "Analyser la taille de l'ensemble de données (nombre de lignes et de colonnes)."
   ]
  },
  {
   "cell_type": "code",
   "execution_count": 8,
   "metadata": {},
   "outputs": [
    {
     "name": "stdout",
     "output_type": "stream",
     "text": [
      "Nombre de lignes et de colonnes :  (17484, 17)\n"
     ]
    }
   ],
   "source": [
    "print(\"Nombre de lignes et de colonnes : \", data.shape)"
   ]
  },
  {
   "cell_type": "markdown",
   "metadata": {},
   "source": [
    "# Comprendre la signification de chaque colonne:"
   ]
  },
  {
   "cell_type": "code",
   "execution_count": 9,
   "metadata": {},
   "outputs": [
    {
     "name": "stdout",
     "output_type": "stream",
     "text": [
      "\n",
      "Colonnes :\n",
      " Index(['instant', 'dteday', 'season', 'yr', 'mnth', 'hr', 'holiday', 'weekday',\n",
      "       'workingday', 'weathersit', 'temp', 'atemp', 'hum', 'windspeed',\n",
      "       'casual', 'registered', 'cnt'],\n",
      "      dtype='object')\n",
      "\n",
      "Nombre de colonnes :  17\n"
     ]
    }
   ],
   "source": [
    "print(\"\\nColonnes :\\n\", data.columns)\n",
    "print(\"\\nNombre de colonnes : \", len(data.columns))"
   ]
  },
  {
   "cell_type": "markdown",
   "metadata": {},
   "source": [
    "# Affichier les types de données de chaque colonne"
   ]
  },
  {
   "cell_type": "code",
   "execution_count": 10,
   "metadata": {},
   "outputs": [
    {
     "name": "stdout",
     "output_type": "stream",
     "text": [
      "\n",
      "Informations sur les données :\n",
      "\n",
      "<class 'pandas.core.frame.DataFrame'>\n",
      "RangeIndex: 17484 entries, 0 to 17483\n",
      "Data columns (total 17 columns):\n",
      " #   Column      Non-Null Count  Dtype  \n",
      "---  ------      --------------  -----  \n",
      " 0   instant     17131 non-null  float64\n",
      " 1   dteday      17108 non-null  object \n",
      " 2   season      17103 non-null  float64\n",
      " 3   yr          17141 non-null  float64\n",
      " 4   mnth        17151 non-null  float64\n",
      " 5   hr          17120 non-null  float64\n",
      " 6   holiday     17126 non-null  float64\n",
      " 7   weekday     17130 non-null  float64\n",
      " 8   workingday  17139 non-null  float64\n",
      " 9   weathersit  17130 non-null  float64\n",
      " 10  temp        17152 non-null  float64\n",
      " 11  atemp       17118 non-null  float64\n",
      " 12  hum         17169 non-null  float64\n",
      " 13  windspeed   17146 non-null  float64\n",
      " 14  casual      17127 non-null  float64\n",
      " 15  registered  17168 non-null  float64\n",
      " 16  cnt         17129 non-null  float64\n",
      "dtypes: float64(16), object(1)\n",
      "memory usage: 2.3+ MB\n"
     ]
    }
   ],
   "source": [
    "print(\"\\nInformations sur les données :\\n\")\n",
    "data.info()"
   ]
  },
  {
   "cell_type": "markdown",
   "metadata": {},
   "source": [
    "# Afficage des statistiques descriptives"
   ]
  },
  {
   "cell_type": "code",
   "execution_count": 11,
   "metadata": {},
   "outputs": [
    {
     "name": "stdout",
     "output_type": "stream",
     "text": [
      "\n",
      "Statistiques descriptives :\n",
      "             instant        season            yr          mnth            hr  \\\n",
      "count  17131.000000  17103.000000  17141.000000  17151.000000  17120.000000   \n",
      "mean    8678.806666      2.504239      0.502596      6.540493     11.555315   \n",
      "std     5013.504186      1.106255      0.500008      3.438079      6.922491   \n",
      "min        1.000000      1.000000      0.000000      1.000000      0.000000   \n",
      "25%     4342.500000      2.000000      0.000000      4.000000      6.000000   \n",
      "50%     8664.000000      3.000000      1.000000      7.000000     12.000000   \n",
      "75%    13024.500000      3.000000      1.000000     10.000000     18.000000   \n",
      "max    17379.000000      4.000000      1.000000     12.000000     23.000000   \n",
      "\n",
      "            holiday       weekday    workingday    weathersit          temp  \\\n",
      "count  17126.000000  17130.000000  17139.000000  17130.000000  17152.000000   \n",
      "mean       0.028903      3.000817      0.683237      1.425803      0.497385   \n",
      "std        0.167540      2.006237      0.465228      0.639642      0.192669   \n",
      "min        0.000000      0.000000      0.000000      1.000000      0.020000   \n",
      "25%        0.000000      1.000000      0.000000      1.000000      0.340000   \n",
      "50%        0.000000      3.000000      1.000000      1.000000      0.500000   \n",
      "75%        0.000000      5.000000      1.000000      2.000000      0.660000   \n",
      "max        1.000000      6.000000      1.000000      4.000000      1.000000   \n",
      "\n",
      "              atemp           hum     windspeed        casual    registered  \\\n",
      "count  17118.000000  17169.000000  17146.000000  17127.000000  17168.000000   \n",
      "mean       0.476085      0.626772      0.190063     35.624394    153.424569   \n",
      "std        0.171818      0.192674      0.122163     49.201808    150.831175   \n",
      "min        0.000000      0.000000      0.000000      0.000000      0.000000   \n",
      "25%        0.333300      0.480000      0.104500      4.000000     34.000000   \n",
      "50%        0.484800      0.630000      0.194000     17.000000    115.000000   \n",
      "75%        0.621200      0.780000      0.253700     48.000000    220.000000   \n",
      "max        1.000000      1.000000      0.850700    367.000000    886.000000   \n",
      "\n",
      "                cnt  \n",
      "count  17129.000000  \n",
      "mean     189.441065  \n",
      "std      181.268088  \n",
      "min        1.000000  \n",
      "25%       40.000000  \n",
      "50%      142.000000  \n",
      "75%      281.000000  \n",
      "max      977.000000  \n"
     ]
    }
   ],
   "source": [
    "print(\"\\nStatistiques descriptives :\\n\", data.describe())"
   ]
  },
  {
   "cell_type": "markdown",
   "metadata": {},
   "source": [
    "# Affichier valeur minimale, maximale et moyenne des statistiques descriptives"
   ]
  },
  {
   "cell_type": "code",
   "execution_count": 12,
   "metadata": {},
   "outputs": [
    {
     "name": "stdout",
     "output_type": "stream",
     "text": [
      "\n",
      "Valeur minimale :\n",
      " instant       1.000000\n",
      "season        1.000000\n",
      "yr            0.000000\n",
      "mnth          1.000000\n",
      "hr            0.000000\n",
      "holiday       0.000000\n",
      "weekday       0.000000\n",
      "workingday    0.000000\n",
      "weathersit    0.639642\n",
      "temp          0.020000\n",
      "atemp         0.000000\n",
      "hum           0.000000\n",
      "windspeed     0.000000\n",
      "casual        0.000000\n",
      "registered    0.000000\n",
      "cnt           1.000000\n",
      "dtype: float64\n",
      "\n",
      "Valeur maximale :\n",
      " instant       17379.0\n",
      "season        17103.0\n",
      "yr            17141.0\n",
      "mnth          17151.0\n",
      "hr            17120.0\n",
      "holiday       17126.0\n",
      "weekday       17130.0\n",
      "workingday    17139.0\n",
      "weathersit    17130.0\n",
      "temp          17152.0\n",
      "atemp         17118.0\n",
      "hum           17169.0\n",
      "windspeed     17146.0\n",
      "casual        17127.0\n",
      "registered    17168.0\n",
      "cnt           17129.0\n",
      "dtype: float64\n",
      "\n",
      "Valeur moyenne :\n",
      " instant       9279.288857\n",
      "season        2139.951312\n",
      "yr            2143.125325\n",
      "mnth          2149.372322\n",
      "hr            2149.684726\n",
      "holiday       2140.899555\n",
      "weekday       2143.750882\n",
      "workingday    2142.893558\n",
      "weathersit    2142.633181\n",
      "temp          2144.401257\n",
      "atemp         2140.135900\n",
      "hum           2146.588681\n",
      "windspeed     2143.464391\n",
      "casual        2205.978275\n",
      "registered    2340.906968\n",
      "cnt           2367.588644\n",
      "dtype: float64\n"
     ]
    }
   ],
   "source": [
    "\n",
    "print(\"\\nValeur minimale :\\n\", data.describe().min())\n",
    "print(\"\\nValeur maximale :\\n\", data.describe().max())\n",
    "print(\"\\nValeur moyenne :\\n\", data.describe().mean())"
   ]
  },
  {
   "cell_type": "markdown",
   "metadata": {},
   "source": [
    "# Supprimer les doublons"
   ]
  },
  {
   "cell_type": "code",
   "execution_count": 14,
   "metadata": {},
   "outputs": [
    {
     "name": "stdout",
     "output_type": "stream",
     "text": [
      "Nombre de doublons supprimer :  105\n"
     ]
    }
   ],
   "source": [
    "duplicatedDataCount=data.duplicated().sum()\n",
    "data_cleaned = data.drop_duplicates()\n",
    "print(\"Nombre de doublons supprimer : \", duplicatedDataCount)"
   ]
  },
  {
   "cell_type": "markdown",
   "metadata": {},
   "source": [
    "# Vérifier les valeurs manquantes"
   ]
  },
  {
   "cell_type": "code",
   "execution_count": 15,
   "metadata": {},
   "outputs": [
    {
     "name": "stdout",
     "output_type": "stream",
     "text": [
      "\n",
      "Somme des valeurs manquantes par colonne :\n",
      " instant       353\n",
      "dteday        376\n",
      "season        381\n",
      "yr            343\n",
      "mnth          333\n",
      "hr            364\n",
      "holiday       358\n",
      "weekday       354\n",
      "workingday    345\n",
      "weathersit    354\n",
      "temp          332\n",
      "atemp         366\n",
      "hum           315\n",
      "windspeed     338\n",
      "casual        357\n",
      "registered    316\n",
      "cnt           355\n",
      "dtype: int64\n"
     ]
    }
   ],
   "source": [
    "print(\"\\nSomme des valeurs manquantes par colonne :\\n\", data.isnull().sum())"
   ]
  },
  {
   "cell_type": "markdown",
   "metadata": {},
   "source": [
    "# Afficher les premières lignes des données nettoyées"
   ]
  },
  {
   "cell_type": "code",
   "execution_count": 17,
   "metadata": {},
   "outputs": [
    {
     "data": {
      "text/html": [
       "<div>\n",
       "<style scoped>\n",
       "    .dataframe tbody tr th:only-of-type {\n",
       "        vertical-align: middle;\n",
       "    }\n",
       "\n",
       "    .dataframe tbody tr th {\n",
       "        vertical-align: top;\n",
       "    }\n",
       "\n",
       "    .dataframe thead th {\n",
       "        text-align: right;\n",
       "    }\n",
       "</style>\n",
       "<table border=\"1\" class=\"dataframe\">\n",
       "  <thead>\n",
       "    <tr style=\"text-align: right;\">\n",
       "      <th></th>\n",
       "      <th>instant</th>\n",
       "      <th>dteday</th>\n",
       "      <th>season</th>\n",
       "      <th>yr</th>\n",
       "      <th>mnth</th>\n",
       "      <th>hr</th>\n",
       "      <th>holiday</th>\n",
       "      <th>weekday</th>\n",
       "      <th>workingday</th>\n",
       "      <th>weathersit</th>\n",
       "      <th>temp</th>\n",
       "      <th>atemp</th>\n",
       "      <th>hum</th>\n",
       "      <th>windspeed</th>\n",
       "      <th>casual</th>\n",
       "      <th>registered</th>\n",
       "      <th>cnt</th>\n",
       "    </tr>\n",
       "  </thead>\n",
       "  <tbody>\n",
       "    <tr>\n",
       "      <th>0</th>\n",
       "      <td>1.0</td>\n",
       "      <td>2011-01-01</td>\n",
       "      <td>1.0</td>\n",
       "      <td>0.0</td>\n",
       "      <td>1.0</td>\n",
       "      <td>0.0</td>\n",
       "      <td>0.0</td>\n",
       "      <td>6.0</td>\n",
       "      <td>0.0</td>\n",
       "      <td>1.0</td>\n",
       "      <td>0.24</td>\n",
       "      <td>0.2879</td>\n",
       "      <td>0.81</td>\n",
       "      <td>0.0</td>\n",
       "      <td>3.0</td>\n",
       "      <td>13.0</td>\n",
       "      <td>16.0</td>\n",
       "    </tr>\n",
       "    <tr>\n",
       "      <th>1</th>\n",
       "      <td>2.0</td>\n",
       "      <td>2011-01-01</td>\n",
       "      <td>1.0</td>\n",
       "      <td>0.0</td>\n",
       "      <td>1.0</td>\n",
       "      <td>1.0</td>\n",
       "      <td>0.0</td>\n",
       "      <td>6.0</td>\n",
       "      <td>NaN</td>\n",
       "      <td>1.0</td>\n",
       "      <td>0.22</td>\n",
       "      <td>0.2727</td>\n",
       "      <td>0.80</td>\n",
       "      <td>0.0</td>\n",
       "      <td>8.0</td>\n",
       "      <td>32.0</td>\n",
       "      <td>40.0</td>\n",
       "    </tr>\n",
       "    <tr>\n",
       "      <th>2</th>\n",
       "      <td>3.0</td>\n",
       "      <td>2011-01-01</td>\n",
       "      <td>1.0</td>\n",
       "      <td>0.0</td>\n",
       "      <td>1.0</td>\n",
       "      <td>2.0</td>\n",
       "      <td>0.0</td>\n",
       "      <td>6.0</td>\n",
       "      <td>0.0</td>\n",
       "      <td>1.0</td>\n",
       "      <td>0.22</td>\n",
       "      <td>0.2727</td>\n",
       "      <td>0.80</td>\n",
       "      <td>0.0</td>\n",
       "      <td>5.0</td>\n",
       "      <td>27.0</td>\n",
       "      <td>32.0</td>\n",
       "    </tr>\n",
       "    <tr>\n",
       "      <th>3</th>\n",
       "      <td>4.0</td>\n",
       "      <td>2011-01-01</td>\n",
       "      <td>1.0</td>\n",
       "      <td>0.0</td>\n",
       "      <td>1.0</td>\n",
       "      <td>3.0</td>\n",
       "      <td>0.0</td>\n",
       "      <td>6.0</td>\n",
       "      <td>0.0</td>\n",
       "      <td>1.0</td>\n",
       "      <td>0.24</td>\n",
       "      <td>0.2879</td>\n",
       "      <td>0.75</td>\n",
       "      <td>0.0</td>\n",
       "      <td>3.0</td>\n",
       "      <td>10.0</td>\n",
       "      <td>13.0</td>\n",
       "    </tr>\n",
       "    <tr>\n",
       "      <th>4</th>\n",
       "      <td>5.0</td>\n",
       "      <td>2011-01-01</td>\n",
       "      <td>1.0</td>\n",
       "      <td>0.0</td>\n",
       "      <td>1.0</td>\n",
       "      <td>4.0</td>\n",
       "      <td>0.0</td>\n",
       "      <td>6.0</td>\n",
       "      <td>0.0</td>\n",
       "      <td>1.0</td>\n",
       "      <td>0.24</td>\n",
       "      <td>0.2879</td>\n",
       "      <td>0.75</td>\n",
       "      <td>0.0</td>\n",
       "      <td>0.0</td>\n",
       "      <td>1.0</td>\n",
       "      <td>1.0</td>\n",
       "    </tr>\n",
       "  </tbody>\n",
       "</table>\n",
       "</div>"
      ],
      "text/plain": [
       "   instant      dteday  season   yr  mnth   hr  holiday  weekday  workingday  \\\n",
       "0      1.0  2011-01-01     1.0  0.0   1.0  0.0      0.0      6.0         0.0   \n",
       "1      2.0  2011-01-01     1.0  0.0   1.0  1.0      0.0      6.0         NaN   \n",
       "2      3.0  2011-01-01     1.0  0.0   1.0  2.0      0.0      6.0         0.0   \n",
       "3      4.0  2011-01-01     1.0  0.0   1.0  3.0      0.0      6.0         0.0   \n",
       "4      5.0  2011-01-01     1.0  0.0   1.0  4.0      0.0      6.0         0.0   \n",
       "\n",
       "   weathersit  temp   atemp   hum  windspeed  casual  registered   cnt  \n",
       "0         1.0  0.24  0.2879  0.81        0.0     3.0        13.0  16.0  \n",
       "1         1.0  0.22  0.2727  0.80        0.0     8.0        32.0  40.0  \n",
       "2         1.0  0.22  0.2727  0.80        0.0     5.0        27.0  32.0  \n",
       "3         1.0  0.24  0.2879  0.75        0.0     3.0        10.0  13.0  \n",
       "4         1.0  0.24  0.2879  0.75        0.0     0.0         1.0   1.0  "
      ]
     },
     "execution_count": 17,
     "metadata": {},
     "output_type": "execute_result"
    }
   ],
   "source": [
    "data_cleaned.head()"
   ]
  },
  {
   "cell_type": "markdown",
   "metadata": {},
   "source": [
    "# Description des Variables du Dataset Bike Sharing\n",
    "\n",
    "| **Nom de la variable** | **Description** |\n",
    "|------------------------|-----------------|\n",
    "| **Instant**            | Identificateur unique pour chaque enregistrement. |\n",
    "| **dteday**             | Date précise de la location des vélos. |\n",
    "| **season**             | Saison de l'année, codée de 1 à 4 (1: printemps, 2: été, 3: automne, 4: hiver). |\n",
    "| **yr**                 | Année (0 pour 2011, 1 pour 2012). |\n",
    "| **mnth**               | Mois de l'année (1 à 12). |\n",
    "| **hr**                 | Heure de la journée (0 à 23). |\n",
    "| **holiday**            | Indique si le jour est un jour férié (0 : non, 1 : oui). |\n",
    "| **weekday**            | Jour de la semaine (0 pour dimanche, 6 pour samedi). |\n",
    "| **workingday**         | Indique si le jour est un jour ouvrable (ni week-end, ni jour férié). |\n",
    "| **weathersit**         | Situation météorologique : <br> 1: Clair, partiellement nuageux <br> 2: Brume + nuages <br> 3: Pluie légère, neige légère <br> 4: Fortes précipitations. |\n",
    "| **temp**               | Température normalisée (valeurs divisées par 41°C, max possible). |\n",
    "| **atemp**              | Température ressentie normalisée (valeurs divisées par 50°C, max possible). |\n",
    "| **hum**                | Humidité relative normalisée (valeurs divisées par 100, max possible). |\n",
    "| **windspeed**          | Vitesse du vent normalisée (valeurs divisées par 67, max possible). |\n",
    "| **casual**             | Nombre de locations par des utilisateurs occasionnels. |\n",
    "| **registered**         | Nombre de locations par des utilisateurs enregistrés. |\n",
    "| **cnt**                | Nombre total de vélos loués (inclus utilisateurs occasionnels et enregistrés). |\n"
   ]
  },
  {
   "cell_type": "code",
   "execution_count": null,
   "metadata": {},
   "outputs": [],
   "source": []
  },
  {
   "cell_type": "markdown",
   "metadata": {},
   "source": [
    "# Preparation des données \n"
   ]
  }
 ],
 "metadata": {
  "kernelspec": {
   "display_name": "Python 3",
   "language": "python",
   "name": "python3"
  },
  "language_info": {
   "codemirror_mode": {
    "name": "ipython",
    "version": 3
   },
   "file_extension": ".py",
   "mimetype": "text/x-python",
   "name": "python",
   "nbconvert_exporter": "python",
   "pygments_lexer": "ipython3",
   "version": "3.12.5"
  }
 },
 "nbformat": 4,
 "nbformat_minor": 2
}
